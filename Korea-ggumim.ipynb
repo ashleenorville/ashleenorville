{
  "nbformat": 4,
  "nbformat_minor": 0,
  "metadata": {
    "colab": {
      "provenance": [],
      "authorship_tag": "ABX9TyNh5mJ4j9CEGOwF4w8+OcD6",
      "include_colab_link": true
    },
    "kernelspec": {
      "name": "python3",
      "display_name": "Python 3"
    },
    "language_info": {
      "name": "python"
    }
  },
  "cells": [
    {
      "cell_type": "markdown",
      "metadata": {
        "id": "view-in-github",
        "colab_type": "text"
      },
      "source": [
        "<a href=\"https://colab.research.google.com/github/ashleenorville/ashleenorville/blob/main/Korea-ggumim.ipynb\" target=\"_parent\"><img src=\"https://colab.research.google.com/assets/colab-badge.svg\" alt=\"Open In Colab\"/></a>"
      ]
    },
    {
      "cell_type": "code",
      "execution_count": 11,
      "metadata": {
        "id": "qaTydyy0sSkF"
      },
      "outputs": [],
      "source": [
        "# Import necessary libraries\n",
        "import os\n",
        "import pandas as pd\n",
        "import numpy as np\n",
        "from sklearn.preprocessing import StandardScaler\n",
        "\n",
        "# Define file paths\n",
        "input_file = \"/content/Korea-ggumim.csv\"\n",
        "garbage_file = \"/content/garbage.csv\"\n",
        "output_folder = \"/content/outputs\"\n",
        "output_file = f\"{output_folder}/cleaned_data.csv\"\n",
        "\n",
        "# Create an empty DataFrame for removed data\n",
        "garbage = pd.DataFrame()\n"
      ]
    },
    {
      "cell_type": "code",
      "source": [
        "# Function to load data\n",
        "def load_data(filepath):\n",
        "    try:\n",
        "        df = pd.read_csv(filepath)\n",
        "        print(f\"Data loaded successfully with shape {df.shape}\")\n",
        "        return df\n",
        "    except FileNotFoundError:\n",
        "        print(f\"Error: File not found at {filepath}\")\n",
        "        raise\n"
      ],
      "metadata": {
        "id": "wNFx7pCSJRuw"
      },
      "execution_count": 3,
      "outputs": []
    },
    {
      "cell_type": "code",
      "source": [
        "# Function to handle missing values\n",
        "def handle_missing_values(df):\n",
        "    global garbage\n",
        "    missing_data = df[df.isnull().any(axis=1)]\n",
        "    garbage = pd.concat([garbage, missing_data])  # Store rows with missing values\n",
        "    df.dropna(inplace=True)\n",
        "    print(f\"Missing values handled. Remaining rows: {df.shape[0]}\")\n",
        "    return df\n"
      ],
      "metadata": {
        "id": "3y9lHtE4JUni"
      },
      "execution_count": 4,
      "outputs": []
    },
    {
      "cell_type": "code",
      "source": [
        "# Function to remove duplicates\n",
        "def remove_duplicates(df):\n",
        "    global garbage\n",
        "    duplicates = df[df.duplicated()]\n",
        "    garbage = pd.concat([garbage, duplicates])  # Store duplicate rows\n",
        "    df.drop_duplicates(inplace=True)\n",
        "    print(f\"Duplicates removed. Remaining rows: {df.shape[0]}\")\n",
        "    return df\n"
      ],
      "metadata": {
        "id": "dBlSfUx-JaKD"
      },
      "execution_count": 5,
      "outputs": []
    },
    {
      "cell_type": "code",
      "source": [
        "# Function to convert data types\n",
        "def convert_data_types(df):\n",
        "    global garbage\n",
        "    if 'date' in df.columns:\n",
        "        try:\n",
        "            df['date'] = pd.to_datetime(df['date'], errors='coerce')\n",
        "            invalid_dates = df[df['date'].isnull()]\n",
        "            garbage = pd.concat([garbage, invalid_dates])  # Store invalid date rows\n",
        "            df = df.dropna(subset=['date'])  # Remove rows with invalid dates\n",
        "            print(f\"Date conversion completed.\")\n",
        "        except Exception as e:\n",
        "            print(f\"Error while converting date column: {e}\")\n",
        "    return df\n"
      ],
      "metadata": {
        "id": "cLDEleuXJdty"
      },
      "execution_count": 6,
      "outputs": []
    },
    {
      "cell_type": "code",
      "source": [
        "# Function to remove outliers\n",
        "def remove_outliers(df):\n",
        "    global garbage\n",
        "    numerical_cols = df.select_dtypes(include=[np.number]).columns.tolist()\n",
        "    for col in numerical_cols:\n",
        "        q1 = df[col].quantile(0.25)\n",
        "        q3 = df[col].quantile(0.75)\n",
        "        iqr = q3 - q1\n",
        "        lower_bound = q1 - 1.5 * iqr\n",
        "        upper_bound = q3 + 1.5 * iqr\n",
        "        outliers = df[(df[col] < lower_bound) | (df[col] > upper_bound)]\n",
        "        garbage = pd.concat([garbage, outliers])  # Store outliers\n",
        "        df = df[(df[col] >= lower_bound) & (df[col] <= upper_bound)]  # Keep non-outliers\n",
        "    print(f\"Outliers removed. Remaining rows: {df.shape[0]}\")\n",
        "    return df\n"
      ],
      "metadata": {
        "id": "oVAXyE9AJhh0"
      },
      "execution_count": 7,
      "outputs": []
    },
    {
      "cell_type": "code",
      "source": [
        "# Function to standardize data\n",
        "def standardize_data(df):\n",
        "    numerical_cols = df.select_dtypes(include=[np.number]).columns.tolist()\n",
        "    scaler = StandardScaler()\n",
        "    df[numerical_cols] = scaler.fit_transform(df[numerical_cols])\n",
        "    print(f\"Data standardized for numerical columns.\")\n",
        "    return df\n"
      ],
      "metadata": {
        "id": "QIzP6KDeJmaw"
      },
      "execution_count": 8,
      "outputs": []
    },
    {
      "cell_type": "code",
      "source": [
        "# Function to handle invalid data\n",
        "def handle_invalid_data(df):\n",
        "    global garbage\n",
        "    if 'category' in df.columns:\n",
        "        valid_categories = ['A', 'B', 'C']  # Define valid categories\n",
        "        invalid_categories = df[~df['category'].isin(valid_categories)]\n",
        "        garbage = pd.concat([garbage, invalid_categories])  # Store invalid categories\n",
        "        df = df[df['category'].isin(valid_categories)]  # Keep only valid categories\n",
        "        print(f\"Invalid data handled for 'category' column.\")\n",
        "    return df\n"
      ],
      "metadata": {
        "id": "nEM9NcDaJp9A"
      },
      "execution_count": 9,
      "outputs": []
    },
    {
      "cell_type": "code",
      "source": [
        "# Function to save data\n",
        "def save_data(df, output_filepath, garbage_filepath):\n",
        "    global garbage\n",
        "    # Ensure output folder exists\n",
        "    os.makedirs(os.path.dirname(output_filepath), exist_ok=True)\n",
        "\n",
        "    # Save the garbage data\n",
        "    garbage.drop_duplicates(inplace=True)  # Avoid storing duplicates in garbage\n",
        "    garbage.to_csv(garbage_filepath, index=False)\n",
        "    print(f\"Removed data saved to: {garbage_filepath}\")\n",
        "\n",
        "    # Save the cleaned data\n",
        "    df.to_csv(output_filepath, index=False)\n",
        "    print(f\"Cleaned data saved to: {output_filepath}\")\n"
      ],
      "metadata": {
        "id": "JtMwqWs5Jupx"
      },
      "execution_count": 12,
      "outputs": []
    },
    {
      "cell_type": "code",
      "source": [
        "# Main function to execute all steps\n",
        "def main():\n",
        "    # Step 1: Load data\n",
        "    df = load_data(input_file)\n",
        "\n",
        "    # Step 2: Clean data\n",
        "    df = handle_missing_values(df)\n",
        "    df = remove_duplicates(df)\n",
        "    df = convert_data_types(df)\n",
        "    df = remove_outliers(df)\n",
        "    df = standardize_data(df)\n",
        "    df = handle_invalid_data(df)\n",
        "\n",
        "    # Step 3: Save results\n",
        "    save_data(df, output_file, garbage_file)\n",
        "\n",
        "# Run the main function\n",
        "if __name__ == \"__main__\":\n",
        "    main()\n"
      ],
      "metadata": {
        "colab": {
          "base_uri": "https://localhost:8080/"
        },
        "id": "o_Blxx_QJ-I1",
        "outputId": "fa4f0cf8-185a-4a6e-e7cb-8604ea5d5368"
      },
      "execution_count": 13,
      "outputs": [
        {
          "output_type": "stream",
          "name": "stderr",
          "text": [
            "<ipython-input-3-bea883a8ba2f>:4: DtypeWarning: Columns (6) have mixed types. Specify dtype option on import or set low_memory=False.\n",
            "  df = pd.read_csv(filepath)\n"
          ]
        },
        {
          "output_type": "stream",
          "name": "stdout",
          "text": [
            "Data loaded successfully with shape (1301500, 11)\n",
            "Missing values handled. Remaining rows: 9\n",
            "Duplicates removed. Remaining rows: 9\n",
            "Outliers removed. Remaining rows: 8\n",
            "Data standardized for numerical columns.\n",
            "Removed data saved to: /content/garbage.csv\n",
            "Cleaned data saved to: /content/outputs/cleaned_data.csv\n"
          ]
        }
      ]
    }
  ]
}